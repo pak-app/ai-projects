{
 "cells": [
  {
   "attachments": {},
   "cell_type": "markdown",
   "metadata": {},
   "source": [
    "<h1><b>MNIST Dataset</b></h1>"
   ]
  },
  {
   "attachments": {},
   "cell_type": "markdown",
   "metadata": {},
   "source": [
    "<h2><b>Load Libraries</b></h2>"
   ]
  },
  {
   "cell_type": "code",
   "execution_count": 1,
   "metadata": {},
   "outputs": [],
   "source": [
    "import pandas as pd\n",
    "import numpy as np\n",
    "import tensorflow as tf\n",
    "from tensorflow import keras\n",
    "from keras.datasets.mnist import load_data\n",
    "import matplotlib.pyplot as plt"
   ]
  },
  {
   "attachments": {},
   "cell_type": "markdown",
   "metadata": {},
   "source": [
    "<h2><b>Load Train Data</b></h2>\n",
    "<h2><b>Download dataset via this link <a>https://drive.google.com/drive/folders/1LLeYjmjh7JfKPAqNg8lkQ5XVU7MxKTDf?usp=sharing</a></b></h2>"
   ]
  },
  {
   "cell_type": "code",
   "execution_count": 3,
   "metadata": {},
   "outputs": [
    {
     "name": "stdout",
     "output_type": "stream",
     "text": [
      "Shape of x_train: (60000, 28, 28)\n",
      "Shape of y_train: (60000,)\n"
     ]
    }
   ],
   "source": [
    "train_data = pd.read_csv('mnist_train.csv')\n",
    "y_train = train_data['label'].to_numpy()\n",
    "x_train = train_data.iloc[:,1:].to_numpy()\n",
    "x_train = x_train.reshape(x_train.shape[0],28,28)\n",
    "print('Shape of x_train:',x_train.shape)\n",
    "print('Shape of y_train:',y_train.shape)"
   ]
  },
  {
   "attachments": {},
   "cell_type": "markdown",
   "metadata": {},
   "source": [
    "<h2><b>Load Test Data</b></h2>"
   ]
  },
  {
   "cell_type": "code",
   "execution_count": 4,
   "metadata": {},
   "outputs": [
    {
     "name": "stdout",
     "output_type": "stream",
     "text": [
      "Shape of x_test: (10000, 28, 28)\n",
      "Shape of y_test: (10000,)\n"
     ]
    }
   ],
   "source": [
    "test_data = pd.read_csv('mnist_test.csv')\n",
    "y_test = test_data['label'].to_numpy()\n",
    "x_test = test_data.iloc[:,1:].to_numpy()\n",
    "x_test = x_test.reshape(x_test.shape[0],28,28)\n",
    "print('Shape of x_test:',x_test.shape)\n",
    "print('Shape of y_test:',y_test.shape)"
   ]
  },
  {
   "attachments": {},
   "cell_type": "markdown",
   "metadata": {},
   "source": [
    "<h2><b>Data Visualization</b></h2>"
   ]
  },
  {
   "cell_type": "code",
   "execution_count": 5,
   "metadata": {},
   "outputs": [
    {
     "data": {
      "text/plain": [
       "<matplotlib.image.AxesImage at 0x29a96e53a00>"
      ]
     },
     "execution_count": 5,
     "metadata": {},
     "output_type": "execute_result"
    },
    {
     "data": {
      "image/png": "[encoded data removed]",
      "text/plain": [
       "<Figure size 640x480 with 1 Axes>"
      ]
     },
     "metadata": {},
     "output_type": "display_data"
    }
   ],
   "source": [
    "plt.imshow(x_train[0])"
   ]
  },
  {
   "attachments": {},
   "cell_type": "markdown",
   "metadata": {},
   "source": [
    "<h2><b>Normalize Data</b></h2>"
   ]
  },
  {
   "cell_type": "code",
   "execution_count": 6,
   "metadata": {},
   "outputs": [],
   "source": [
    "# np.max(x_train) = 255\n",
    "x_train = x_train/(np.max(x_train))\n",
    "x_test = x_test/(np.max(x_test))"
   ]
  },
  {
   "attachments": {},
   "cell_type": "markdown",
   "metadata": {},
   "source": [
    "<h2><b>Create Model</b></h2>"
   ]
  },
  {
   "cell_type": "code",
   "execution_count": 7,
   "metadata": {},
   "outputs": [],
   "source": [
    "from keras import Sequential\n",
    "from keras.layers import Dense, Flatten\n",
    "model = Sequential(\n",
    "    [\n",
    "        Flatten(input_shape=[x_train.shape[1],x_train.shape[2]]),\n",
    "        Dense(100,activation='relu'),\n",
    "        Dense(75,activation='relu'),\n",
    "        Dense(10,activation='softmax'),\n",
    "    ]\n",
    ")"
   ]
  },
  {
   "cell_type": "code",
   "execution_count": 8,
   "metadata": {},
   "outputs": [
    {
     "name": "stdout",
     "output_type": "stream",
     "text": [
      "Model: \"sequential\"\n",
      "_________________________________________________________________\n",
      " Layer (type)                Output Shape              Param #   \n",
      "=================================================================\n",
      " flatten (Flatten)           (None, 784)               0         \n",
      "                                                                 \n",
      " dense (Dense)               (None, 100)               78500     \n",
      "                                                                 \n",
      " dense_1 (Dense)             (None, 75)                7575      \n",
      "                                                                 \n",
      " dense_2 (Dense)             (None, 10)                760       \n",
      "                                                                 \n",
      "=================================================================\n",
      "Total params: 86,835\n",
      "Trainable params: 86,835\n",
      "Non-trainable params: 0\n",
      "_________________________________________________________________\n"
     ]
    }
   ],
   "source": [
    "model.summary()"
   ]
  },
  {
   "cell_type": "code",
   "execution_count": 9,
   "metadata": {},
   "outputs": [
    {
     "data": {
      "text/plain": [
       "[<keras.layers.reshaping.flatten.Flatten at 0x29a972d59c0>,\n",
       " <keras.layers.core.dense.Dense at 0x29a97a6e830>,\n",
       " <keras.layers.core.dense.Dense at 0x29a97341330>,\n",
       " <keras.layers.core.dense.Dense at 0x29a97341510>]"
      ]
     },
     "execution_count": 9,
     "metadata": {},
     "output_type": "execute_result"
    }
   ],
   "source": [
    "model.layers"
   ]
  },
  {
   "cell_type": "code",
   "execution_count": 10,
   "metadata": {},
   "outputs": [
    {
     "name": "stdout",
     "output_type": "stream",
     "text": [
      "W: [[-0.05876911  0.06316464 -0.04838591 ...  0.07308064  0.07587463\n",
      "  -0.03645633]\n",
      " [-0.03688443  0.06137952 -0.06218623 ...  0.0413382   0.06724888\n",
      "   0.03589325]\n",
      " [-0.08129111  0.07473658 -0.02608892 ...  0.07993558 -0.06562054\n",
      "  -0.07498688]\n",
      " ...\n",
      " [-0.01618828 -0.01752565  0.05576155 ... -0.05025447  0.05067915\n",
      "  -0.08091323]\n",
      " [-0.04644029  0.03689842  0.05529121 ... -0.04433221  0.02939424\n",
      "   0.05567192]\n",
      " [ 0.00871512  0.02102096  0.05009763 ... -0.07871427  0.05956508\n",
      "  -0.05371151]]\n",
      "Bias: [0. 0. 0. 0. 0. 0. 0. 0. 0. 0. 0. 0. 0. 0. 0. 0. 0. 0. 0. 0. 0. 0. 0. 0.\n",
      " 0. 0. 0. 0. 0. 0. 0. 0. 0. 0. 0. 0. 0. 0. 0. 0. 0. 0. 0. 0. 0. 0. 0. 0.\n",
      " 0. 0. 0. 0. 0. 0. 0. 0. 0. 0. 0. 0. 0. 0. 0. 0. 0. 0. 0. 0. 0. 0. 0. 0.\n",
      " 0. 0. 0. 0. 0. 0. 0. 0. 0. 0. 0. 0. 0. 0. 0. 0. 0. 0. 0. 0. 0. 0. 0. 0.\n",
      " 0. 0. 0. 0.]\n"
     ]
    }
   ],
   "source": [
    "w, b = model.layers[1].get_weights()\n",
    "print('W:',w)\n",
    "print('Bias:',b)"
   ]
  },
  {
   "attachments": {},
   "cell_type": "markdown",
   "metadata": {},
   "source": [
    "<h2><b>Compile Model</b></h2>"
   ]
  },
  {
   "cell_type": "code",
   "execution_count": 11,
   "metadata": {},
   "outputs": [],
   "source": [
    "model.compile(\n",
    "    loss='sparse_categorical_crossentropy',\n",
    "    optimizer='sgd',\n",
    "    metrics=['accuracy']\n",
    ")"
   ]
  },
  {
   "attachments": {},
   "cell_type": "markdown",
   "metadata": {},
   "source": [
    "<h2><b>Fit Model</b></h2>"
   ]
  },
  {
   "cell_type": "code",
   "execution_count": 12,
   "metadata": {},
   "outputs": [
    {
     "name": "stdout",
     "output_type": "stream",
     "text": [
      "Epoch 1/60\n",
      "1500/1500 [==============================] - 3s 1ms/step - loss: 0.7615 - accuracy: 0.7991 - val_loss: 0.3528 - val_accuracy: 0.9021\n",
      "Epoch 2/60\n",
      "1500/1500 [==============================] - 2s 1ms/step - loss: 0.3347 - accuracy: 0.9040 - val_loss: 0.2840 - val_accuracy: 0.9203\n",
      "Epoch 3/60\n",
      "1500/1500 [==============================] - 2s 1ms/step - loss: 0.2799 - accuracy: 0.9194 - val_loss: 0.2540 - val_accuracy: 0.9299\n",
      "Epoch 4/60\n",
      "1500/1500 [==============================] - 2s 1ms/step - loss: 0.2447 - accuracy: 0.9300 - val_loss: 0.2188 - val_accuracy: 0.9388\n",
      "Epoch 5/60\n",
      "1500/1500 [==============================] - 2s 1ms/step - loss: 0.2176 - accuracy: 0.9374 - val_loss: 0.2017 - val_accuracy: 0.9445\n",
      "Epoch 6/60\n",
      "1500/1500 [==============================] - 2s 1ms/step - loss: 0.1968 - accuracy: 0.9437 - val_loss: 0.1843 - val_accuracy: 0.9498\n",
      "Epoch 7/60\n",
      "1500/1500 [==============================] - 2s 1ms/step - loss: 0.1790 - accuracy: 0.9486 - val_loss: 0.1779 - val_accuracy: 0.9517\n",
      "Epoch 8/60\n",
      "1500/1500 [==============================] - 2s 1ms/step - loss: 0.1646 - accuracy: 0.9519 - val_loss: 0.1628 - val_accuracy: 0.9548\n",
      "Epoch 9/60\n",
      "1500/1500 [==============================] - 2s 1ms/step - loss: 0.1523 - accuracy: 0.9555 - val_loss: 0.1529 - val_accuracy: 0.9578\n",
      "Epoch 10/60\n",
      "1500/1500 [==============================] - 2s 1ms/step - loss: 0.1415 - accuracy: 0.9595 - val_loss: 0.1457 - val_accuracy: 0.9606\n",
      "Epoch 11/60\n",
      "1500/1500 [==============================] - 2s 1ms/step - loss: 0.1313 - accuracy: 0.9619 - val_loss: 0.1445 - val_accuracy: 0.9599\n",
      "Epoch 12/60\n",
      "1500/1500 [==============================] - 2s 1ms/step - loss: 0.1229 - accuracy: 0.9645 - val_loss: 0.1340 - val_accuracy: 0.9638\n",
      "Epoch 13/60\n",
      "1500/1500 [==============================] - 2s 1ms/step - loss: 0.1148 - accuracy: 0.9667 - val_loss: 0.1311 - val_accuracy: 0.9631\n",
      "Epoch 14/60\n",
      "1500/1500 [==============================] - 2s 1ms/step - loss: 0.1081 - accuracy: 0.9691 - val_loss: 0.1241 - val_accuracy: 0.9655\n",
      "Epoch 15/60\n",
      "1500/1500 [==============================] - 2s 1ms/step - loss: 0.1014 - accuracy: 0.9713 - val_loss: 0.1208 - val_accuracy: 0.9656\n",
      "Epoch 16/60\n",
      "1500/1500 [==============================] - 2s 1ms/step - loss: 0.0960 - accuracy: 0.9725 - val_loss: 0.1225 - val_accuracy: 0.9659\n",
      "Epoch 17/60\n",
      "1500/1500 [==============================] - 2s 1ms/step - loss: 0.0908 - accuracy: 0.9744 - val_loss: 0.1140 - val_accuracy: 0.9682\n",
      "Epoch 18/60\n",
      "1500/1500 [==============================] - 2s 1ms/step - loss: 0.0859 - accuracy: 0.9754 - val_loss: 0.1156 - val_accuracy: 0.9668\n",
      "Epoch 19/60\n",
      "1500/1500 [==============================] - 2s 1ms/step - loss: 0.0815 - accuracy: 0.9770 - val_loss: 0.1081 - val_accuracy: 0.9698\n",
      "Epoch 20/60\n",
      "1500/1500 [==============================] - 2s 1ms/step - loss: 0.0773 - accuracy: 0.9780 - val_loss: 0.1107 - val_accuracy: 0.9678\n",
      "Epoch 21/60\n",
      "1500/1500 [==============================] - 2s 1ms/step - loss: 0.0737 - accuracy: 0.9795 - val_loss: 0.1057 - val_accuracy: 0.9693\n",
      "Epoch 22/60\n",
      "1500/1500 [==============================] - 2s 1ms/step - loss: 0.0702 - accuracy: 0.9804 - val_loss: 0.1046 - val_accuracy: 0.9703\n",
      "Epoch 23/60\n",
      "1500/1500 [==============================] - 2s 1ms/step - loss: 0.0665 - accuracy: 0.9818 - val_loss: 0.1014 - val_accuracy: 0.9711\n",
      "Epoch 24/60\n",
      "1500/1500 [==============================] - 2s 2ms/step - loss: 0.0636 - accuracy: 0.9821 - val_loss: 0.1012 - val_accuracy: 0.9693\n",
      "Epoch 25/60\n",
      "1500/1500 [==============================] - 2s 1ms/step - loss: 0.0608 - accuracy: 0.9833 - val_loss: 0.0982 - val_accuracy: 0.9712\n",
      "Epoch 26/60\n",
      "1500/1500 [==============================] - 2s 1ms/step - loss: 0.0578 - accuracy: 0.9841 - val_loss: 0.0980 - val_accuracy: 0.9712\n",
      "Epoch 27/60\n",
      "1500/1500 [==============================] - 2s 1ms/step - loss: 0.0557 - accuracy: 0.9851 - val_loss: 0.0970 - val_accuracy: 0.9720\n",
      "Epoch 28/60\n",
      "1500/1500 [==============================] - 2s 1ms/step - loss: 0.0533 - accuracy: 0.9855 - val_loss: 0.0956 - val_accuracy: 0.9718\n",
      "Epoch 29/60\n",
      "1500/1500 [==============================] - 2s 1ms/step - loss: 0.0510 - accuracy: 0.9865 - val_loss: 0.0957 - val_accuracy: 0.9728\n",
      "Epoch 30/60\n",
      "1500/1500 [==============================] - 2s 1ms/step - loss: 0.0486 - accuracy: 0.9872 - val_loss: 0.0965 - val_accuracy: 0.9718\n",
      "Epoch 31/60\n",
      "1500/1500 [==============================] - 2s 1ms/step - loss: 0.0465 - accuracy: 0.9877 - val_loss: 0.0941 - val_accuracy: 0.9721\n",
      "Epoch 32/60\n",
      "1500/1500 [==============================] - 2s 1ms/step - loss: 0.0446 - accuracy: 0.9879 - val_loss: 0.0951 - val_accuracy: 0.9712\n",
      "Epoch 33/60\n",
      "1500/1500 [==============================] - 2s 1ms/step - loss: 0.0428 - accuracy: 0.9892 - val_loss: 0.0918 - val_accuracy: 0.9732\n",
      "Epoch 34/60\n",
      "1500/1500 [==============================] - 2s 1ms/step - loss: 0.0410 - accuracy: 0.9896 - val_loss: 0.0934 - val_accuracy: 0.9729\n",
      "Epoch 35/60\n",
      "1500/1500 [==============================] - 2s 1ms/step - loss: 0.0395 - accuracy: 0.9895 - val_loss: 0.0930 - val_accuracy: 0.9722\n",
      "Epoch 36/60\n",
      "1500/1500 [==============================] - 2s 1ms/step - loss: 0.0378 - accuracy: 0.9903 - val_loss: 0.0904 - val_accuracy: 0.9743\n",
      "Epoch 37/60\n",
      "1500/1500 [==============================] - 2s 1ms/step - loss: 0.0363 - accuracy: 0.9908 - val_loss: 0.0895 - val_accuracy: 0.9737\n",
      "Epoch 38/60\n",
      "1500/1500 [==============================] - 2s 1ms/step - loss: 0.0348 - accuracy: 0.9915 - val_loss: 0.0902 - val_accuracy: 0.9735\n",
      "Epoch 39/60\n",
      "1500/1500 [==============================] - 2s 1ms/step - loss: 0.0333 - accuracy: 0.9916 - val_loss: 0.0952 - val_accuracy: 0.9722\n",
      "Epoch 40/60\n",
      "1500/1500 [==============================] - 2s 1ms/step - loss: 0.0320 - accuracy: 0.9924 - val_loss: 0.0930 - val_accuracy: 0.9724\n",
      "Epoch 41/60\n",
      "1500/1500 [==============================] - 2s 1ms/step - loss: 0.0308 - accuracy: 0.9925 - val_loss: 0.0913 - val_accuracy: 0.9736\n",
      "Epoch 42/60\n",
      "1500/1500 [==============================] - 2s 1ms/step - loss: 0.0295 - accuracy: 0.9931 - val_loss: 0.0905 - val_accuracy: 0.9735\n",
      "Epoch 43/60\n",
      "1500/1500 [==============================] - 2s 1ms/step - loss: 0.0285 - accuracy: 0.9930 - val_loss: 0.0902 - val_accuracy: 0.9743\n",
      "Epoch 44/60\n",
      "1500/1500 [==============================] - 2s 1ms/step - loss: 0.0273 - accuracy: 0.9938 - val_loss: 0.0906 - val_accuracy: 0.9742\n",
      "Epoch 45/60\n",
      "1500/1500 [==============================] - 2s 1ms/step - loss: 0.0263 - accuracy: 0.9944 - val_loss: 0.0938 - val_accuracy: 0.9725\n",
      "Epoch 46/60\n",
      "1500/1500 [==============================] - 2s 1ms/step - loss: 0.0252 - accuracy: 0.9944 - val_loss: 0.0916 - val_accuracy: 0.9742\n",
      "Epoch 47/60\n",
      "1500/1500 [==============================] - 2s 1ms/step - loss: 0.0245 - accuracy: 0.9946 - val_loss: 0.0895 - val_accuracy: 0.9743\n",
      "Epoch 48/60\n",
      "1500/1500 [==============================] - 2s 1ms/step - loss: 0.0235 - accuracy: 0.9949 - val_loss: 0.0915 - val_accuracy: 0.9737\n",
      "Epoch 49/60\n",
      "1500/1500 [==============================] - 2s 1ms/step - loss: 0.0224 - accuracy: 0.9953 - val_loss: 0.0934 - val_accuracy: 0.9743\n",
      "Epoch 50/60\n",
      "1500/1500 [==============================] - 2s 1ms/step - loss: 0.0215 - accuracy: 0.9958 - val_loss: 0.0922 - val_accuracy: 0.9741\n",
      "Epoch 51/60\n",
      "1500/1500 [==============================] - 2s 1ms/step - loss: 0.0208 - accuracy: 0.9957 - val_loss: 0.0922 - val_accuracy: 0.9734\n",
      "Epoch 52/60\n",
      "1500/1500 [==============================] - 2s 1ms/step - loss: 0.0200 - accuracy: 0.9958 - val_loss: 0.0926 - val_accuracy: 0.9737\n",
      "Epoch 53/60\n",
      "1500/1500 [==============================] - 2s 1ms/step - loss: 0.0192 - accuracy: 0.9961 - val_loss: 0.0937 - val_accuracy: 0.9744\n",
      "Epoch 54/60\n",
      "1500/1500 [==============================] - 2s 1ms/step - loss: 0.0185 - accuracy: 0.9964 - val_loss: 0.0915 - val_accuracy: 0.9750\n",
      "Epoch 55/60\n",
      "1500/1500 [==============================] - 2s 1ms/step - loss: 0.0177 - accuracy: 0.9967 - val_loss: 0.0941 - val_accuracy: 0.9733\n",
      "Epoch 56/60\n",
      "1500/1500 [==============================] - 2s 1ms/step - loss: 0.0171 - accuracy: 0.9969 - val_loss: 0.0933 - val_accuracy: 0.9752\n",
      "Epoch 57/60\n",
      "1500/1500 [==============================] - 2s 1ms/step - loss: 0.0164 - accuracy: 0.9971 - val_loss: 0.0935 - val_accuracy: 0.9753\n",
      "Epoch 58/60\n",
      "1500/1500 [==============================] - 2s 1ms/step - loss: 0.0159 - accuracy: 0.9973 - val_loss: 0.0932 - val_accuracy: 0.9743\n",
      "Epoch 59/60\n",
      "1500/1500 [==============================] - 2s 1ms/step - loss: 0.0150 - accuracy: 0.9975 - val_loss: 0.0938 - val_accuracy: 0.9737\n",
      "Epoch 60/60\n",
      "1500/1500 [==============================] - 2s 1ms/step - loss: 0.0149 - accuracy: 0.9976 - val_loss: 0.0947 - val_accuracy: 0.9738\n"
     ]
    }
   ],
   "source": [
    "history = model.fit(\n",
    "    x_train,\n",
    "    y_train,\n",
    "    epochs=60,\n",
    "    validation_split=0.2\n",
    ")"
   ]
  },
  {
   "cell_type": "code",
   "execution_count": 13,
   "metadata": {},
   "outputs": [
    {
     "name": "stdout",
     "output_type": "stream",
     "text": [
      "{'loss': [0.7615062594413757, 0.33471083641052246, 0.27992820739746094, 0.24471329152584076, 0.21755358576774597, 0.19680240750312805, 0.1790228933095932, 0.16459326446056366, 0.1522500365972519, 0.14151082932949066, 0.13131269812583923, 0.12294235080480576, 0.11480208486318588, 0.10807020962238312, 0.10144583880901337, 0.09599140286445618, 0.09079145640134811, 0.08590543270111084, 0.08145986497402191, 0.07728017866611481, 0.07373008877038956, 0.07022222876548767, 0.06645049899816513, 0.06355466693639755, 0.060806065797805786, 0.05784737318754196, 0.055664774030447006, 0.05327079817652702, 0.05099787935614586, 0.048648517578840256, 0.046546027064323425, 0.044629089534282684, 0.042824823409318924, 0.04098297655582428, 0.03945065289735794, 0.03775554522871971, 0.03626803681254387, 0.03482694923877716, 0.033257611095905304, 0.03195488452911377, 0.030765127390623093, 0.029455848038196564, 0.02849745936691761, 0.027300598099827766, 0.0263120848685503, 0.02524595893919468, 0.024496421217918396, 0.02345043234527111, 0.022432899102568626, 0.02147405408322811, 0.020819783210754395, 0.020000873133540154, 0.019225936383008957, 0.01846746914088726, 0.017689337953925133, 0.017108101397752762, 0.016381442546844482, 0.015943387523293495, 0.01504840049892664, 0.014863619580864906], 'accuracy': [0.7990624904632568, 0.9039791822433472, 0.9194375276565552, 0.929979145526886, 0.937375009059906, 0.9436666369438171, 0.948645830154419, 0.9518958330154419, 0.9554791450500488, 0.9595208168029785, 0.9619166851043701, 0.9645000100135803, 0.9667291641235352, 0.9690625071525574, 0.9712708592414856, 0.9724583625793457, 0.9743541479110718, 0.9753958582878113, 0.9770208597183228, 0.9779583215713501, 0.979479193687439, 0.9803958535194397, 0.9817708134651184, 0.9820625185966492, 0.9832500219345093, 0.984125018119812, 0.9851250052452087, 0.9855416417121887, 0.9864583611488342, 0.9871875047683716, 0.9877291917800903, 0.9879375100135803, 0.9892083406448364, 0.9895625114440918, 0.9894583225250244, 0.9903125166893005, 0.9907708168029785, 0.9915208220481873, 0.9915833473205566, 0.99239581823349, 0.992479145526886, 0.9930624961853027, 0.9929791688919067, 0.9938333630561829, 0.9944166541099548, 0.9943749904632568, 0.9945625066757202, 0.9948958158493042, 0.9953333139419556, 0.9958124756813049, 0.9957083463668823, 0.9958124756813049, 0.9961458444595337, 0.9964374899864197, 0.996708333492279, 0.9968958497047424, 0.9971041679382324, 0.9973124861717224, 0.9975416660308838, 0.9975625276565552], 'val_loss': [0.35282376408576965, 0.2839610278606415, 0.2539636492729187, 0.218779057264328, 0.20168651640415192, 0.1843281388282776, 0.17786049842834473, 0.16277213394641876, 0.15285588800907135, 0.14567510783672333, 0.14449484646320343, 0.1340162754058838, 0.13105294108390808, 0.12408509105443954, 0.12076126784086227, 0.12246575951576233, 0.11401896178722382, 0.11562896519899368, 0.10805639624595642, 0.11066756397485733, 0.10568273812532425, 0.104609414935112, 0.10142862796783447, 0.10124032944440842, 0.09823574870824814, 0.09800400584936142, 0.09702864289283752, 0.09560878574848175, 0.09567979723215103, 0.09653568267822266, 0.09412173181772232, 0.09507737308740616, 0.09182171523571014, 0.0934264287352562, 0.09304550290107727, 0.09035191684961319, 0.08949057757854462, 0.09015005826950073, 0.09516584128141403, 0.09296019375324249, 0.09133674204349518, 0.09047657251358032, 0.09018891304731369, 0.09059340506792068, 0.09382791072130203, 0.09160024672746658, 0.08953581750392914, 0.09150511771440506, 0.09340593218803406, 0.09222795814275742, 0.09216642379760742, 0.09255366027355194, 0.09374479204416275, 0.09150071442127228, 0.09412525594234467, 0.09330791234970093, 0.093514584004879, 0.09321150928735733, 0.09378167986869812, 0.09473993629217148], 'val_accuracy': [0.9020833373069763, 0.9203333258628845, 0.9299166798591614, 0.9388333559036255, 0.9445000290870667, 0.9497500061988831, 0.9517499804496765, 0.9548333287239075, 0.9578333497047424, 0.9605833292007446, 0.9599166512489319, 0.9637500047683716, 0.9630833268165588, 0.965499997138977, 0.965583324432373, 0.9659166932106018, 0.9681666493415833, 0.9667500257492065, 0.9698333144187927, 0.9678333401679993, 0.9692500233650208, 0.9703333377838135, 0.9710833430290222, 0.9693333506584167, 0.9712499976158142, 0.9711666703224182, 0.972000002861023, 0.971833348274231, 0.9727500081062317, 0.971750020980835, 0.972083330154419, 0.9712499976158142, 0.9731666445732117, 0.9729166626930237, 0.9722499847412109, 0.9742500185966492, 0.9737499952316284, 0.9735000133514404, 0.9721666574478149, 0.9724166393280029, 0.9735833406448364, 0.9735000133514404, 0.9743333458900452, 0.9741666913032532, 0.9725000262260437, 0.9741666913032532, 0.9743333458900452, 0.9736666679382324, 0.9743333458900452, 0.9740833044052124, 0.9734166860580444, 0.9737499952316284, 0.9744166731834412, 0.9750000238418579, 0.9733333587646484, 0.9751666784286499, 0.9752500057220459, 0.9743333458900452, 0.9737499952316284, 0.9738333225250244]}\n"
     ]
    }
   ],
   "source": [
    "print(history.history)"
   ]
  },
  {
   "attachments": {},
   "cell_type": "markdown",
   "metadata": {},
   "source": [
    "<h2><b>Visualize Error And Accuracy</b></h2>"
   ]
  },
  {
   "cell_type": "code",
   "execution_count": 14,
   "metadata": {},
   "outputs": [
    {
     "data": {
      "text/plain": [
       "<matplotlib.legend.Legend at 0x29a97cbac80>"
      ]
     },
     "execution_count": 14,
     "metadata": {},
     "output_type": "execute_result"
    },
    {
     "data": {
      "image/png": "[encoded data removed]",
      "text/plain": [
       "<Figure size 1200x500 with 1 Axes>"
      ]
     },
     "metadata": {},
     "output_type": "display_data"
    }
   ],
   "source": [
    "fig, ax = plt.subplots(figsize=(12, 5))\n",
    "ax.plot(history.history[\"loss\"], label=\"Train Loss\")\n",
    "ax.plot(history.history[\"accuracy\"], label=\"Train Accuracy\")\n",
    "ax.plot(history.history[\"val_loss\"], label=\"Validation Loss\")\n",
    "ax.plot(history.history[\"val_accuracy\"], label=\"Validation Accuracy\")\n",
    "ax.legend()"
   ]
  },
  {
   "attachments": {},
   "cell_type": "markdown",
   "metadata": {},
   "source": [
    "<h2><b>Evaluate Model</b></h2>"
   ]
  },
  {
   "cell_type": "code",
   "execution_count": 15,
   "metadata": {},
   "outputs": [
    {
     "name": "stdout",
     "output_type": "stream",
     "text": [
      "313/313 [==============================] - 0s 1ms/step - loss: 0.0793 - accuracy: 0.9768\n"
     ]
    },
    {
     "data": {
      "text/plain": [
       "[0.0792945921421051, 0.9768000245094299]"
      ]
     },
     "execution_count": 15,
     "metadata": {},
     "output_type": "execute_result"
    }
   ],
   "source": [
    "model.evaluate(x_test,y_test,verbose=1)"
   ]
  },
  {
   "cell_type": "code",
   "execution_count": 25,
   "metadata": {},
   "outputs": [
    {
     "name": "stdout",
     "output_type": "stream",
     "text": [
      "1/1 [==============================] - 0s 19ms/step\n",
      "Shape of prediction: (1, 10)\n",
      "Prediction: [[0. 0. 0. 0. 0. 0. 0. 1. 0. 0.]]\n"
     ]
    },
    {
     "data": {
      "image/png": "[encoded data removed]",
      "text/plain": [
       "<Figure size 640x480 with 1 Axes>"
      ]
     },
     "metadata": {},
     "output_type": "display_data"
    }
   ],
   "source": [
    "# fig 1\n",
    "plt.imshow(x_test[0])\n",
    "pred = model.predict(x_test[0:1,:,:]).round(3)\n",
    "print('Shape of prediction:',pred.shape)\n",
    "print('Prediction:',pred)"
   ]
  }
 ],
 "metadata": {
  "kernelspec": {
   "display_name": "MLEnv",
   "language": "python",
   "name": "python3"
  },
  "language_info": {
   "codemirror_mode": {
    "name": "ipython",
    "version": 3
   },
   "file_extension": ".py",
   "mimetype": "text/x-python",
   "name": "python",
   "nbconvert_exporter": "python",
   "pygments_lexer": "ipython3",
   "version": "3.10.1"
  },
  "orig_nbformat": 4,
  "vscode": {
   "interpreter": {
    "hash": "57ab81a696ca7f53b826f8a8ffc63a06965e37d4b1f695a8306ef72f7cc8b61f"
   }
  }
 },
 "nbformat": 4,
 "nbformat_minor": 2
}
