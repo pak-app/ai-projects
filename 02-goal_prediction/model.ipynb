{
 "cells": [
  {
   "attachments": {},
   "cell_type": "markdown",
   "metadata": {},
   "source": [
    "<h1>Goal Prediction Model</h1>\n",
    "<h3>We want to build and train a model to predict goal from our data</h3>\n",
    "<h3>What should we do?</h3>\n",
    "<li>Import necessary libraries and load data</li>\n",
    "<li>Data pre processing</li>\n",
    "<li>Building models</li>"
   ]
  },
  {
   "cell_type": "markdown",
   "metadata": {},
   "source": [
    "<h2>Import Necessary Libraries</h2>"
   ]
  },
  {
   "cell_type": "code",
   "execution_count": 1,
   "metadata": {},
   "outputs": [],
   "source": [
    "import numpy as np\n",
    "import pandas as pd"
   ]
  },
  {
   "cell_type": "markdown",
   "metadata": {},
   "source": [
    "<h1>Data Pre_Processing</h1>"
   ]
  },
  {
   "cell_type": "markdown",
   "metadata": {},
   "source": [
    "<h2>Load Data</h2>"
   ]
  },
  {
   "cell_type": "code",
   "execution_count": 2,
   "metadata": {},
   "outputs": [
    {
     "name": "stdout",
     "output_type": "stream",
     "text": [
      "(8925, 13)\n"
     ]
    },
    {
     "data": {
      "text/html": [
       "<div>\n",
       "<style scoped>\n",
       "    .dataframe tbody tr th:only-of-type {\n",
       "        vertical-align: middle;\n",
       "    }\n",
       "\n",
       "    .dataframe tbody tr th {\n",
       "        vertical-align: top;\n",
       "    }\n",
       "\n",
       "    .dataframe thead th {\n",
       "        text-align: right;\n",
       "    }\n",
       "</style>\n",
       "<table border=\"1\" class=\"dataframe\">\n",
       "  <thead>\n",
       "    <tr style=\"text-align: right;\">\n",
       "      <th></th>\n",
       "      <th>Unnamed: 0</th>\n",
       "      <th>matchId</th>\n",
       "      <th>playerId</th>\n",
       "      <th>playType</th>\n",
       "      <th>bodyPart</th>\n",
       "      <th>x</th>\n",
       "      <th>y</th>\n",
       "      <th>interveningOpponents</th>\n",
       "      <th>interveningTeammates</th>\n",
       "      <th>interferenceOnShooter</th>\n",
       "      <th>minute</th>\n",
       "      <th>second</th>\n",
       "      <th>outcome</th>\n",
       "    </tr>\n",
       "  </thead>\n",
       "  <tbody>\n",
       "    <tr>\n",
       "      <th>0</th>\n",
       "      <td>0</td>\n",
       "      <td>m_91</td>\n",
       "      <td>p_103</td>\n",
       "      <td>in game</td>\n",
       "      <td>right foot</td>\n",
       "      <td>13.47</td>\n",
       "      <td>-11.22</td>\n",
       "      <td>1</td>\n",
       "      <td>0</td>\n",
       "      <td>normal</td>\n",
       "      <td>70</td>\n",
       "      <td>9</td>\n",
       "      <td>goal</td>\n",
       "    </tr>\n",
       "    <tr>\n",
       "      <th>1</th>\n",
       "      <td>1</td>\n",
       "      <td>m_17</td>\n",
       "      <td>p_16</td>\n",
       "      <td>in game</td>\n",
       "      <td>left foot</td>\n",
       "      <td>9.48</td>\n",
       "      <td>14.22</td>\n",
       "      <td>3</td>\n",
       "      <td>0</td>\n",
       "      <td>normal</td>\n",
       "      <td>55</td>\n",
       "      <td>4</td>\n",
       "      <td>saved</td>\n",
       "    </tr>\n",
       "    <tr>\n",
       "      <th>2</th>\n",
       "      <td>2</td>\n",
       "      <td>m_111</td>\n",
       "      <td>p_88</td>\n",
       "      <td>free kick</td>\n",
       "      <td>left foot</td>\n",
       "      <td>29.43</td>\n",
       "      <td>-1.25</td>\n",
       "      <td>6</td>\n",
       "      <td>2</td>\n",
       "      <td>low</td>\n",
       "      <td>86</td>\n",
       "      <td>31</td>\n",
       "      <td>saved</td>\n",
       "    </tr>\n",
       "    <tr>\n",
       "      <th>3</th>\n",
       "      <td>3</td>\n",
       "      <td>m_142</td>\n",
       "      <td>p_87</td>\n",
       "      <td>in game</td>\n",
       "      <td>right foot</td>\n",
       "      <td>26.93</td>\n",
       "      <td>1.00</td>\n",
       "      <td>4</td>\n",
       "      <td>1</td>\n",
       "      <td>normal</td>\n",
       "      <td>77</td>\n",
       "      <td>2</td>\n",
       "      <td>lost</td>\n",
       "    </tr>\n",
       "    <tr>\n",
       "      <th>4</th>\n",
       "      <td>4</td>\n",
       "      <td>m_117</td>\n",
       "      <td>p_9</td>\n",
       "      <td>in game</td>\n",
       "      <td>right foot</td>\n",
       "      <td>10.72</td>\n",
       "      <td>5.24</td>\n",
       "      <td>2</td>\n",
       "      <td>0</td>\n",
       "      <td>normal</td>\n",
       "      <td>76</td>\n",
       "      <td>46</td>\n",
       "      <td>goal</td>\n",
       "    </tr>\n",
       "  </tbody>\n",
       "</table>\n",
       "</div>"
      ],
      "text/plain": [
       "   Unnamed: 0 matchId playerId   playType    bodyPart      x      y  \\\n",
       "0           0    m_91    p_103    in game  right foot  13.47 -11.22   \n",
       "1           1    m_17     p_16    in game   left foot   9.48  14.22   \n",
       "2           2   m_111     p_88  free kick   left foot  29.43  -1.25   \n",
       "3           3   m_142     p_87    in game  right foot  26.93   1.00   \n",
       "4           4   m_117      p_9    in game  right foot  10.72   5.24   \n",
       "\n",
       "   interveningOpponents  interveningTeammates interferenceOnShooter  minute  \\\n",
       "0                     1                     0                normal      70   \n",
       "1                     3                     0                normal      55   \n",
       "2                     6                     2                   low      86   \n",
       "3                     4                     1                normal      77   \n",
       "4                     2                     0                normal      76   \n",
       "\n",
       "   second outcome  \n",
       "0       9    goal  \n",
       "1       4   saved  \n",
       "2      31   saved  \n",
       "3       2    lost  \n",
       "4      46    goal  "
      ]
     },
     "execution_count": 2,
     "metadata": {},
     "output_type": "execute_result"
    }
   ],
   "source": [
    "df = pd.read_csv('dataset.csv')\n",
    "print(df.shape)\n",
    "df.head()"
   ]
  },
  {
   "cell_type": "markdown",
   "metadata": {},
   "source": [
    "<h2>Delete matchId, playerId and second</h2>\n",
    "<h3>These features aren't effecient for our model so we drop it</h3>"
   ]
  },
  {
   "cell_type": "code",
   "execution_count": 3,
   "metadata": {},
   "outputs": [],
   "source": [
    "df = df.drop(['matchId','playerId','Unnamed: 0','second'],axis=1)"
   ]
  },
  {
   "cell_type": "markdown",
   "metadata": {},
   "source": [
    "<h2>Replace String Values With Int Values</h2>"
   ]
  },
  {
   "cell_type": "code",
   "execution_count": 4,
   "metadata": {},
   "outputs": [
    {
     "name": "stderr",
     "output_type": "stream",
     "text": [
      "C:\\Users\\Dorsait.com\\AppData\\Local\\Temp\\ipykernel_22608\\3828732416.py:3: SettingWithCopyWarning: \n",
      "A value is trying to be set on a copy of a slice from a DataFrame\n",
      "\n",
      "See the caveats in the documentation: https://pandas.pydata.org/pandas-docs/stable/user_guide/indexing.html#returning-a-view-versus-a-copy\n",
      "  df['bodyPart'][df['bodyPart'] == val ] = ind + 1\n"
     ]
    }
   ],
   "source": [
    "items = ['others','head','right foot','left foot']\n",
    "for ind,val in enumerate(items):\n",
    "    df['bodyPart'][df['bodyPart'] == val ] = ind + 1"
   ]
  },
  {
   "cell_type": "code",
   "execution_count": 5,
   "metadata": {},
   "outputs": [
    {
     "name": "stderr",
     "output_type": "stream",
     "text": [
      "C:\\Users\\Dorsait.com\\AppData\\Local\\Temp\\ipykernel_22608\\3089727933.py:3: SettingWithCopyWarning: \n",
      "A value is trying to be set on a copy of a slice from a DataFrame\n",
      "\n",
      "See the caveats in the documentation: https://pandas.pydata.org/pandas-docs/stable/user_guide/indexing.html#returning-a-view-versus-a-copy\n",
      "  df['playType'][df['playType'] == val] = ind + 1\n"
     ]
    }
   ],
   "source": [
    "item = ['from corner','free kick','in game','penalty']\n",
    "for ind,val in enumerate(item):\n",
    "    df['playType'][df['playType'] == val] = ind + 1\n",
    "    "
   ]
  },
  {
   "cell_type": "code",
   "execution_count": 6,
   "metadata": {},
   "outputs": [
    {
     "name": "stderr",
     "output_type": "stream",
     "text": [
      "C:\\Users\\Dorsait.com\\AppData\\Local\\Temp\\ipykernel_22608\\3445012663.py:3: SettingWithCopyWarning: \n",
      "A value is trying to be set on a copy of a slice from a DataFrame\n",
      "\n",
      "See the caveats in the documentation: https://pandas.pydata.org/pandas-docs/stable/user_guide/indexing.html#returning-a-view-versus-a-copy\n",
      "  df['interferenceOnShooter'][df['interferenceOnShooter'] == val] = ind + 1\n"
     ]
    }
   ],
   "source": [
    "item = ['low','normal','much']\n",
    "for ind, val in enumerate(item):\n",
    "    df['interferenceOnShooter'][df['interferenceOnShooter'] == val] = ind + 1"
   ]
  },
  {
   "cell_type": "code",
   "execution_count": 7,
   "metadata": {},
   "outputs": [
    {
     "name": "stderr",
     "output_type": "stream",
     "text": [
      "C:\\Users\\Dorsait.com\\AppData\\Local\\Temp\\ipykernel_22608\\422814725.py:6: SettingWithCopyWarning: \n",
      "A value is trying to be set on a copy of a slice from a DataFrame\n",
      "\n",
      "See the caveats in the documentation: https://pandas.pydata.org/pandas-docs/stable/user_guide/indexing.html#returning-a-view-versus-a-copy\n",
      "  df['outcome'][df['outcome'] == val] = 0\n",
      "C:\\Users\\Dorsait.com\\AppData\\Local\\Temp\\ipykernel_22608\\422814725.py:4: SettingWithCopyWarning: \n",
      "A value is trying to be set on a copy of a slice from a DataFrame\n",
      "\n",
      "See the caveats in the documentation: https://pandas.pydata.org/pandas-docs/stable/user_guide/indexing.html#returning-a-view-versus-a-copy\n",
      "  df['outcome'][df['outcome'] == val] = 1\n"
     ]
    }
   ],
   "source": [
    "item = ['defence blocked','own goal','lost','saved','off the post','goal']\n",
    "for val in item:\n",
    "    if 'goal' in val:\n",
    "        df['outcome'][df['outcome'] == val] = 1\n",
    "    else : \n",
    "        df['outcome'][df['outcome'] == val] = 0"
   ]
  },
  {
   "cell_type": "markdown",
   "metadata": {},
   "source": [
    "<h2>Calculate distance with x and y features</h2>"
   ]
  },
  {
   "cell_type": "code",
   "execution_count": 8,
   "metadata": {},
   "outputs": [
    {
     "data": {
      "text/html": [
       "<div>\n",
       "<style scoped>\n",
       "    .dataframe tbody tr th:only-of-type {\n",
       "        vertical-align: middle;\n",
       "    }\n",
       "\n",
       "    .dataframe tbody tr th {\n",
       "        vertical-align: top;\n",
       "    }\n",
       "\n",
       "    .dataframe thead th {\n",
       "        text-align: right;\n",
       "    }\n",
       "</style>\n",
       "<table border=\"1\" class=\"dataframe\">\n",
       "  <thead>\n",
       "    <tr style=\"text-align: right;\">\n",
       "      <th></th>\n",
       "      <th>playType</th>\n",
       "      <th>bodyPart</th>\n",
       "      <th>x</th>\n",
       "      <th>y</th>\n",
       "      <th>interveningOpponents</th>\n",
       "      <th>interveningTeammates</th>\n",
       "      <th>interferenceOnShooter</th>\n",
       "      <th>minute</th>\n",
       "      <th>outcome</th>\n",
       "      <th>dist</th>\n",
       "    </tr>\n",
       "  </thead>\n",
       "  <tbody>\n",
       "    <tr>\n",
       "      <th>0</th>\n",
       "      <td>3</td>\n",
       "      <td>3</td>\n",
       "      <td>13.47</td>\n",
       "      <td>-11.22</td>\n",
       "      <td>1</td>\n",
       "      <td>0</td>\n",
       "      <td>2</td>\n",
       "      <td>70</td>\n",
       "      <td>1</td>\n",
       "      <td>18.0</td>\n",
       "    </tr>\n",
       "    <tr>\n",
       "      <th>1</th>\n",
       "      <td>3</td>\n",
       "      <td>4</td>\n",
       "      <td>9.48</td>\n",
       "      <td>14.22</td>\n",
       "      <td>3</td>\n",
       "      <td>0</td>\n",
       "      <td>2</td>\n",
       "      <td>55</td>\n",
       "      <td>0</td>\n",
       "      <td>17.0</td>\n",
       "    </tr>\n",
       "    <tr>\n",
       "      <th>2</th>\n",
       "      <td>2</td>\n",
       "      <td>4</td>\n",
       "      <td>29.43</td>\n",
       "      <td>-1.25</td>\n",
       "      <td>6</td>\n",
       "      <td>2</td>\n",
       "      <td>1</td>\n",
       "      <td>86</td>\n",
       "      <td>0</td>\n",
       "      <td>29.0</td>\n",
       "    </tr>\n",
       "    <tr>\n",
       "      <th>3</th>\n",
       "      <td>3</td>\n",
       "      <td>3</td>\n",
       "      <td>26.93</td>\n",
       "      <td>1.00</td>\n",
       "      <td>4</td>\n",
       "      <td>1</td>\n",
       "      <td>2</td>\n",
       "      <td>77</td>\n",
       "      <td>0</td>\n",
       "      <td>27.0</td>\n",
       "    </tr>\n",
       "    <tr>\n",
       "      <th>4</th>\n",
       "      <td>3</td>\n",
       "      <td>3</td>\n",
       "      <td>10.72</td>\n",
       "      <td>5.24</td>\n",
       "      <td>2</td>\n",
       "      <td>0</td>\n",
       "      <td>2</td>\n",
       "      <td>76</td>\n",
       "      <td>1</td>\n",
       "      <td>12.0</td>\n",
       "    </tr>\n",
       "  </tbody>\n",
       "</table>\n",
       "</div>"
      ],
      "text/plain": [
       "  playType bodyPart      x      y  interveningOpponents  interveningTeammates  \\\n",
       "0        3        3  13.47 -11.22                     1                     0   \n",
       "1        3        4   9.48  14.22                     3                     0   \n",
       "2        2        4  29.43  -1.25                     6                     2   \n",
       "3        3        3  26.93   1.00                     4                     1   \n",
       "4        3        3  10.72   5.24                     2                     0   \n",
       "\n",
       "  interferenceOnShooter  minute outcome  dist  \n",
       "0                     2      70       1  18.0  \n",
       "1                     2      55       0  17.0  \n",
       "2                     1      86       0  29.0  \n",
       "3                     2      77       0  27.0  \n",
       "4                     2      76       1  12.0  "
      ]
     },
     "execution_count": 8,
     "metadata": {},
     "output_type": "execute_result"
    }
   ],
   "source": [
    "df['dist'] = np.round(np.sqrt((df['x'])**2 + df['y']**2),0)  \n",
    "df.head()"
   ]
  },
  {
   "cell_type": "code",
   "execution_count": 9,
   "metadata": {},
   "outputs": [
    {
     "data": {
      "text/html": [
       "<div>\n",
       "<style scoped>\n",
       "    .dataframe tbody tr th:only-of-type {\n",
       "        vertical-align: middle;\n",
       "    }\n",
       "\n",
       "    .dataframe tbody tr th {\n",
       "        vertical-align: top;\n",
       "    }\n",
       "\n",
       "    .dataframe thead th {\n",
       "        text-align: right;\n",
       "    }\n",
       "</style>\n",
       "<table border=\"1\" class=\"dataframe\">\n",
       "  <thead>\n",
       "    <tr style=\"text-align: right;\">\n",
       "      <th></th>\n",
       "      <th>playType</th>\n",
       "      <th>bodyPart</th>\n",
       "      <th>x</th>\n",
       "      <th>y</th>\n",
       "      <th>interveningOpponents</th>\n",
       "      <th>interferenceOnShooter</th>\n",
       "      <th>minute</th>\n",
       "      <th>outcome</th>\n",
       "      <th>dist</th>\n",
       "    </tr>\n",
       "  </thead>\n",
       "  <tbody>\n",
       "    <tr>\n",
       "      <th>0</th>\n",
       "      <td>3</td>\n",
       "      <td>3</td>\n",
       "      <td>13.47</td>\n",
       "      <td>-11.22</td>\n",
       "      <td>1</td>\n",
       "      <td>2</td>\n",
       "      <td>70</td>\n",
       "      <td>1</td>\n",
       "      <td>18.0</td>\n",
       "    </tr>\n",
       "    <tr>\n",
       "      <th>1</th>\n",
       "      <td>3</td>\n",
       "      <td>4</td>\n",
       "      <td>9.48</td>\n",
       "      <td>14.22</td>\n",
       "      <td>3</td>\n",
       "      <td>2</td>\n",
       "      <td>55</td>\n",
       "      <td>0</td>\n",
       "      <td>17.0</td>\n",
       "    </tr>\n",
       "    <tr>\n",
       "      <th>2</th>\n",
       "      <td>2</td>\n",
       "      <td>4</td>\n",
       "      <td>29.43</td>\n",
       "      <td>-1.25</td>\n",
       "      <td>8</td>\n",
       "      <td>1</td>\n",
       "      <td>86</td>\n",
       "      <td>0</td>\n",
       "      <td>29.0</td>\n",
       "    </tr>\n",
       "    <tr>\n",
       "      <th>3</th>\n",
       "      <td>3</td>\n",
       "      <td>3</td>\n",
       "      <td>26.93</td>\n",
       "      <td>1.00</td>\n",
       "      <td>5</td>\n",
       "      <td>2</td>\n",
       "      <td>77</td>\n",
       "      <td>0</td>\n",
       "      <td>27.0</td>\n",
       "    </tr>\n",
       "    <tr>\n",
       "      <th>4</th>\n",
       "      <td>3</td>\n",
       "      <td>3</td>\n",
       "      <td>10.72</td>\n",
       "      <td>5.24</td>\n",
       "      <td>2</td>\n",
       "      <td>2</td>\n",
       "      <td>76</td>\n",
       "      <td>1</td>\n",
       "      <td>12.0</td>\n",
       "    </tr>\n",
       "  </tbody>\n",
       "</table>\n",
       "</div>"
      ],
      "text/plain": [
       "  playType bodyPart      x      y  interveningOpponents interferenceOnShooter  \\\n",
       "0        3        3  13.47 -11.22                     1                     2   \n",
       "1        3        4   9.48  14.22                     3                     2   \n",
       "2        2        4  29.43  -1.25                     8                     1   \n",
       "3        3        3  26.93   1.00                     5                     2   \n",
       "4        3        3  10.72   5.24                     2                     2   \n",
       "\n",
       "   minute outcome  dist  \n",
       "0      70       1  18.0  \n",
       "1      55       0  17.0  \n",
       "2      86       0  29.0  \n",
       "3      77       0  27.0  \n",
       "4      76       1  12.0  "
      ]
     },
     "execution_count": 9,
     "metadata": {},
     "output_type": "execute_result"
    }
   ],
   "source": [
    "df['interveningOpponents'] = df['interveningOpponents'] + df['interveningTeammates']\n",
    "df = df.drop(['interveningTeammates'],axis=1)\n",
    "df.head()"
   ]
  },
  {
   "cell_type": "markdown",
   "metadata": {},
   "source": [
    "<h2>Recognize zone with x and y</h2>"
   ]
  },
  {
   "cell_type": "code",
   "execution_count": 10,
   "metadata": {},
   "outputs": [
    {
     "name": "stderr",
     "output_type": "stream",
     "text": [
      "C:\\Users\\Dorsait.com\\AppData\\Local\\Temp\\ipykernel_22608\\3017229968.py:2: SettingWithCopyWarning: \n",
      "A value is trying to be set on a copy of a slice from a DataFrame\n",
      "\n",
      "See the caveats in the documentation: https://pandas.pydata.org/pandas-docs/stable/user_guide/indexing.html#returning-a-view-versus-a-copy\n",
      "  df['zone'][(df['x'] < 5.5) & ((df['y'] > -9.16) & (df['y'] < 9.16))] = 6\n",
      "C:\\Users\\Dorsait.com\\AppData\\Local\\Temp\\ipykernel_22608\\3017229968.py:6: SettingWithCopyWarning: \n",
      "A value is trying to be set on a copy of a slice from a DataFrame\n",
      "\n",
      "See the caveats in the documentation: https://pandas.pydata.org/pandas-docs/stable/user_guide/indexing.html#returning-a-view-versus-a-copy\n",
      "  df['zone'][(df['x'] < 30) & (df['x'] > 16.5) & (df['y'] > -20.16) & (df['y'] < 20.16)] = 4\n",
      "C:\\Users\\Dorsait.com\\AppData\\Local\\Temp\\ipykernel_22608\\3017229968.py:7: SettingWithCopyWarning: \n",
      "A value is trying to be set on a copy of a slice from a DataFrame\n",
      "\n",
      "See the caveats in the documentation: https://pandas.pydata.org/pandas-docs/stable/user_guide/indexing.html#returning-a-view-versus-a-copy\n",
      "  df['zone'][(df['x'] < 45) & (df['x'] > 30) & (df['y'] > -20.16) & (df['y'] < 20.16)] = 3\n",
      "C:\\Users\\Dorsait.com\\AppData\\Local\\Temp\\ipykernel_22608\\3017229968.py:8: SettingWithCopyWarning: \n",
      "A value is trying to be set on a copy of a slice from a DataFrame\n",
      "\n",
      "See the caveats in the documentation: https://pandas.pydata.org/pandas-docs/stable/user_guide/indexing.html#returning-a-view-versus-a-copy\n",
      "  df['zone'][(df['y'] < -20.16) | (df['y'] > 20.16)] = 2\n",
      "C:\\Users\\Dorsait.com\\AppData\\Local\\Temp\\ipykernel_22608\\3017229968.py:9: SettingWithCopyWarning: \n",
      "A value is trying to be set on a copy of a slice from a DataFrame\n",
      "\n",
      "See the caveats in the documentation: https://pandas.pydata.org/pandas-docs/stable/user_guide/indexing.html#returning-a-view-versus-a-copy\n",
      "  df['zone'][df['x'] > 45] = 1\n",
      "C:\\Users\\Dorsait.com\\AppData\\Local\\Temp\\ipykernel_22608\\3017229968.py:10: SettingWithCopyWarning: \n",
      "A value is trying to be set on a copy of a slice from a DataFrame\n",
      "\n",
      "See the caveats in the documentation: https://pandas.pydata.org/pandas-docs/stable/user_guide/indexing.html#returning-a-view-versus-a-copy\n",
      "  df['zone'][df['zone'] == 0] = 5\n"
     ]
    },
    {
     "data": {
      "text/html": [
       "<div>\n",
       "<style scoped>\n",
       "    .dataframe tbody tr th:only-of-type {\n",
       "        vertical-align: middle;\n",
       "    }\n",
       "\n",
       "    .dataframe tbody tr th {\n",
       "        vertical-align: top;\n",
       "    }\n",
       "\n",
       "    .dataframe thead th {\n",
       "        text-align: right;\n",
       "    }\n",
       "</style>\n",
       "<table border=\"1\" class=\"dataframe\">\n",
       "  <thead>\n",
       "    <tr style=\"text-align: right;\">\n",
       "      <th></th>\n",
       "      <th>playType</th>\n",
       "      <th>bodyPart</th>\n",
       "      <th>x</th>\n",
       "      <th>y</th>\n",
       "      <th>interveningOpponents</th>\n",
       "      <th>interferenceOnShooter</th>\n",
       "      <th>minute</th>\n",
       "      <th>outcome</th>\n",
       "      <th>dist</th>\n",
       "      <th>zone</th>\n",
       "    </tr>\n",
       "  </thead>\n",
       "  <tbody>\n",
       "    <tr>\n",
       "      <th>0</th>\n",
       "      <td>3</td>\n",
       "      <td>3</td>\n",
       "      <td>13.47</td>\n",
       "      <td>-11.22</td>\n",
       "      <td>1</td>\n",
       "      <td>2</td>\n",
       "      <td>70</td>\n",
       "      <td>1</td>\n",
       "      <td>18.0</td>\n",
       "      <td>5</td>\n",
       "    </tr>\n",
       "    <tr>\n",
       "      <th>1</th>\n",
       "      <td>3</td>\n",
       "      <td>4</td>\n",
       "      <td>9.48</td>\n",
       "      <td>14.22</td>\n",
       "      <td>3</td>\n",
       "      <td>2</td>\n",
       "      <td>55</td>\n",
       "      <td>0</td>\n",
       "      <td>17.0</td>\n",
       "      <td>5</td>\n",
       "    </tr>\n",
       "    <tr>\n",
       "      <th>2</th>\n",
       "      <td>2</td>\n",
       "      <td>4</td>\n",
       "      <td>29.43</td>\n",
       "      <td>-1.25</td>\n",
       "      <td>8</td>\n",
       "      <td>1</td>\n",
       "      <td>86</td>\n",
       "      <td>0</td>\n",
       "      <td>29.0</td>\n",
       "      <td>4</td>\n",
       "    </tr>\n",
       "    <tr>\n",
       "      <th>3</th>\n",
       "      <td>3</td>\n",
       "      <td>3</td>\n",
       "      <td>26.93</td>\n",
       "      <td>1.00</td>\n",
       "      <td>5</td>\n",
       "      <td>2</td>\n",
       "      <td>77</td>\n",
       "      <td>0</td>\n",
       "      <td>27.0</td>\n",
       "      <td>4</td>\n",
       "    </tr>\n",
       "    <tr>\n",
       "      <th>4</th>\n",
       "      <td>3</td>\n",
       "      <td>3</td>\n",
       "      <td>10.72</td>\n",
       "      <td>5.24</td>\n",
       "      <td>2</td>\n",
       "      <td>2</td>\n",
       "      <td>76</td>\n",
       "      <td>1</td>\n",
       "      <td>12.0</td>\n",
       "      <td>5</td>\n",
       "    </tr>\n",
       "  </tbody>\n",
       "</table>\n",
       "</div>"
      ],
      "text/plain": [
       "  playType bodyPart      x      y  interveningOpponents interferenceOnShooter  \\\n",
       "0        3        3  13.47 -11.22                     1                     2   \n",
       "1        3        4   9.48  14.22                     3                     2   \n",
       "2        2        4  29.43  -1.25                     8                     1   \n",
       "3        3        3  26.93   1.00                     5                     2   \n",
       "4        3        3  10.72   5.24                     2                     2   \n",
       "\n",
       "   minute outcome  dist  zone  \n",
       "0      70       1  18.0     5  \n",
       "1      55       0  17.0     5  \n",
       "2      86       0  29.0     4  \n",
       "3      77       0  27.0     4  \n",
       "4      76       1  12.0     5  "
      ]
     },
     "execution_count": 10,
     "metadata": {},
     "output_type": "execute_result"
    }
   ],
   "source": [
    "df['zone'] = 0\n",
    "df['zone'][(df['x'] < 5.5) & ((df['y'] > -9.16) & (df['y'] < 9.16))] = 6\n",
    "# dft['zone'][ \n",
    "#             ((dft['x'] < 5.5) & (((dft['y'] > 9.16) & (dft['y'] <20.16))|((dft['y'] < -9.16) & (dft['y'] > -20.16)))) & \n",
    "#             ((dft['x'] > 11)&(dft['x'] < 16.5) & (dft['y'] < 20.16) & (dft['y'] > -20.16))] = 5\n",
    "df['zone'][(df['x'] < 30) & (df['x'] > 16.5) & (df['y'] > -20.16) & (df['y'] < 20.16)] = 4\n",
    "df['zone'][(df['x'] < 45) & (df['x'] > 30) & (df['y'] > -20.16) & (df['y'] < 20.16)] = 3\n",
    "df['zone'][(df['y'] < -20.16) | (df['y'] > 20.16)] = 2\n",
    "df['zone'][df['x'] > 45] = 1\n",
    "df['zone'][df['zone'] == 0] = 5\n",
    "df.head()"
   ]
  },
  {
   "cell_type": "code",
   "execution_count": 11,
   "metadata": {},
   "outputs": [],
   "source": [
    "df['minute'] = (df['minute'] / 15) + 1"
   ]
  },
  {
   "cell_type": "markdown",
   "metadata": {},
   "source": [
    "<h3>Drop x and y beacuse we have distance and zone id and they're more efficient than x and y</h3>"
   ]
  },
  {
   "cell_type": "code",
   "execution_count": 12,
   "metadata": {},
   "outputs": [
    {
     "data": {
      "text/html": [
       "<div>\n",
       "<style scoped>\n",
       "    .dataframe tbody tr th:only-of-type {\n",
       "        vertical-align: middle;\n",
       "    }\n",
       "\n",
       "    .dataframe tbody tr th {\n",
       "        vertical-align: top;\n",
       "    }\n",
       "\n",
       "    .dataframe thead th {\n",
       "        text-align: right;\n",
       "    }\n",
       "</style>\n",
       "<table border=\"1\" class=\"dataframe\">\n",
       "  <thead>\n",
       "    <tr style=\"text-align: right;\">\n",
       "      <th></th>\n",
       "      <th>playType</th>\n",
       "      <th>bodyPart</th>\n",
       "      <th>interveningOpponents</th>\n",
       "      <th>interferenceOnShooter</th>\n",
       "      <th>minute</th>\n",
       "      <th>outcome</th>\n",
       "      <th>dist</th>\n",
       "      <th>zone</th>\n",
       "    </tr>\n",
       "  </thead>\n",
       "  <tbody>\n",
       "    <tr>\n",
       "      <th>0</th>\n",
       "      <td>3</td>\n",
       "      <td>3</td>\n",
       "      <td>1</td>\n",
       "      <td>2</td>\n",
       "      <td>5.666667</td>\n",
       "      <td>1</td>\n",
       "      <td>18.0</td>\n",
       "      <td>5</td>\n",
       "    </tr>\n",
       "    <tr>\n",
       "      <th>1</th>\n",
       "      <td>3</td>\n",
       "      <td>4</td>\n",
       "      <td>3</td>\n",
       "      <td>2</td>\n",
       "      <td>4.666667</td>\n",
       "      <td>0</td>\n",
       "      <td>17.0</td>\n",
       "      <td>5</td>\n",
       "    </tr>\n",
       "    <tr>\n",
       "      <th>2</th>\n",
       "      <td>2</td>\n",
       "      <td>4</td>\n",
       "      <td>8</td>\n",
       "      <td>1</td>\n",
       "      <td>6.733333</td>\n",
       "      <td>0</td>\n",
       "      <td>29.0</td>\n",
       "      <td>4</td>\n",
       "    </tr>\n",
       "    <tr>\n",
       "      <th>3</th>\n",
       "      <td>3</td>\n",
       "      <td>3</td>\n",
       "      <td>5</td>\n",
       "      <td>2</td>\n",
       "      <td>6.133333</td>\n",
       "      <td>0</td>\n",
       "      <td>27.0</td>\n",
       "      <td>4</td>\n",
       "    </tr>\n",
       "    <tr>\n",
       "      <th>4</th>\n",
       "      <td>3</td>\n",
       "      <td>3</td>\n",
       "      <td>2</td>\n",
       "      <td>2</td>\n",
       "      <td>6.066667</td>\n",
       "      <td>1</td>\n",
       "      <td>12.0</td>\n",
       "      <td>5</td>\n",
       "    </tr>\n",
       "  </tbody>\n",
       "</table>\n",
       "</div>"
      ],
      "text/plain": [
       "  playType bodyPart  interveningOpponents interferenceOnShooter    minute  \\\n",
       "0        3        3                     1                     2  5.666667   \n",
       "1        3        4                     3                     2  4.666667   \n",
       "2        2        4                     8                     1  6.733333   \n",
       "3        3        3                     5                     2  6.133333   \n",
       "4        3        3                     2                     2  6.066667   \n",
       "\n",
       "  outcome  dist  zone  \n",
       "0       1  18.0     5  \n",
       "1       0  17.0     5  \n",
       "2       0  29.0     4  \n",
       "3       0  27.0     4  \n",
       "4       1  12.0     5  "
      ]
     },
     "execution_count": 12,
     "metadata": {},
     "output_type": "execute_result"
    }
   ],
   "source": [
    "df = df.drop(['x','y'],axis=1)\n",
    "df.head()"
   ]
  },
  {
   "cell_type": "markdown",
   "metadata": {},
   "source": [
    "<h2>Analyze Np.nan values</h2>"
   ]
  },
  {
   "cell_type": "code",
   "execution_count": 13,
   "metadata": {},
   "outputs": [
    {
     "data": {
      "text/plain": [
       "playType                  0\n",
       "bodyPart                  0\n",
       "interveningOpponents      0\n",
       "interferenceOnShooter    34\n",
       "minute                    0\n",
       "outcome                   0\n",
       "dist                      0\n",
       "zone                      0\n",
       "dtype: int64"
      ]
     },
     "execution_count": 13,
     "metadata": {},
     "output_type": "execute_result"
    }
   ],
   "source": [
    "df.isnull().sum()"
   ]
  },
  {
   "cell_type": "markdown",
   "metadata": {},
   "source": [
    "<h3>So we have 34 nan values in our dataset, it's not too much so we can drop these rows</h3>"
   ]
  },
  {
   "cell_type": "code",
   "execution_count": 14,
   "metadata": {},
   "outputs": [
    {
     "data": {
      "text/plain": [
       "(8891, 8)"
      ]
     },
     "execution_count": 14,
     "metadata": {},
     "output_type": "execute_result"
    }
   ],
   "source": [
    "df = df.dropna()\n",
    "df.shape"
   ]
  },
  {
   "cell_type": "markdown",
   "metadata": {},
   "source": [
    "<h2>Change type of our dataframe</h2>"
   ]
  },
  {
   "cell_type": "code",
   "execution_count": 15,
   "metadata": {},
   "outputs": [],
   "source": [
    "df = df.astype({\n",
    "    'playType' : np.int32,\n",
    "    'bodyPart' : np.int32,\n",
    "    'interferenceOnShooter' : np.int32,\n",
    "    'outcome' : np.int32\n",
    "})"
   ]
  },
  {
   "cell_type": "code",
   "execution_count": 16,
   "metadata": {},
   "outputs": [],
   "source": [
    "Y = df.outcome\n",
    "df = df.drop(['outcome'],axis=1)\n",
    "X = df.copy()"
   ]
  },
  {
   "cell_type": "code",
   "execution_count": 17,
   "metadata": {},
   "outputs": [],
   "source": [
    "# X.to_csv('x_data.csv')\n",
    "# Y.to_csv('y_data.csv')"
   ]
  },
  {
   "cell_type": "markdown",
   "metadata": {},
   "source": [
    "<h2>Select train and test data</h2>"
   ]
  },
  {
   "cell_type": "code",
   "execution_count": 18,
   "metadata": {},
   "outputs": [],
   "source": [
    "from sklearn.model_selection import train_test_split"
   ]
  },
  {
   "cell_type": "code",
   "execution_count": 19,
   "metadata": {},
   "outputs": [
    {
     "name": "stdout",
     "output_type": "stream",
     "text": [
      "(7112, 7) (7112,)\n",
      "(1779, 7) (1779,)\n"
     ]
    }
   ],
   "source": [
    "x_train,x_test,y_train,y_test = train_test_split(X,Y,random_state=10,test_size=0.2)\n",
    "print(x_train.shape,y_train.shape)\n",
    "print(x_test.shape,y_test.shape)"
   ]
  },
  {
   "cell_type": "markdown",
   "metadata": {},
   "source": [
    "<h1>Building the models</h1>\n",
    "<h2>First Model: Support Vector Machine</h2>"
   ]
  },
  {
   "cell_type": "code",
   "execution_count": 30,
   "metadata": {},
   "outputs": [],
   "source": [
    "from sklearn.metrics import *\n",
    "from sklearn import svm\n",
    "from sklearn.metrics import confusion_matrix"
   ]
  },
  {
   "cell_type": "code",
   "execution_count": 20,
   "metadata": {},
   "outputs": [
    {
     "data": {
      "text/html": [
       "<style>#sk-container-id-1 {color: black;background-color: white;}#sk-container-id-1 pre{padding: 0;}#sk-container-id-1 div.sk-toggleable {background-color: white;}#sk-container-id-1 label.sk-toggleable__label {cursor: pointer;display: block;width: 100%;margin-bottom: 0;padding: 0.3em;box-sizing: border-box;text-align: center;}#sk-container-id-1 label.sk-toggleable__label-arrow:before {content: \"▸\";float: left;margin-right: 0.25em;color: #696969;}#sk-container-id-1 label.sk-toggleable__label-arrow:hover:before {color: black;}#sk-container-id-1 div.sk-estimator:hover label.sk-toggleable__label-arrow:before {color: black;}#sk-container-id-1 div.sk-toggleable__content {max-height: 0;max-width: 0;overflow: hidden;text-align: left;background-color: #f0f8ff;}#sk-container-id-1 div.sk-toggleable__content pre {margin: 0.2em;color: black;border-radius: 0.25em;background-color: #f0f8ff;}#sk-container-id-1 input.sk-toggleable__control:checked~div.sk-toggleable__content {max-height: 200px;max-width: 100%;overflow: auto;}#sk-container-id-1 input.sk-toggleable__control:checked~label.sk-toggleable__label-arrow:before {content: \"▾\";}#sk-container-id-1 div.sk-estimator input.sk-toggleable__control:checked~label.sk-toggleable__label {background-color: #d4ebff;}#sk-container-id-1 div.sk-label input.sk-toggleable__control:checked~label.sk-toggleable__label {background-color: #d4ebff;}#sk-container-id-1 input.sk-hidden--visually {border: 0;clip: rect(1px 1px 1px 1px);clip: rect(1px, 1px, 1px, 1px);height: 1px;margin: -1px;overflow: hidden;padding: 0;position: absolute;width: 1px;}#sk-container-id-1 div.sk-estimator {font-family: monospace;background-color: #f0f8ff;border: 1px dotted black;border-radius: 0.25em;box-sizing: border-box;margin-bottom: 0.5em;}#sk-container-id-1 div.sk-estimator:hover {background-color: #d4ebff;}#sk-container-id-1 div.sk-parallel-item::after {content: \"\";width: 100%;border-bottom: 1px solid gray;flex-grow: 1;}#sk-container-id-1 div.sk-label:hover label.sk-toggleable__label {background-color: #d4ebff;}#sk-container-id-1 div.sk-serial::before {content: \"\";position: absolute;border-left: 1px solid gray;box-sizing: border-box;top: 0;bottom: 0;left: 50%;z-index: 0;}#sk-container-id-1 div.sk-serial {display: flex;flex-direction: column;align-items: center;background-color: white;padding-right: 0.2em;padding-left: 0.2em;position: relative;}#sk-container-id-1 div.sk-item {position: relative;z-index: 1;}#sk-container-id-1 div.sk-parallel {display: flex;align-items: stretch;justify-content: center;background-color: white;position: relative;}#sk-container-id-1 div.sk-item::before, #sk-container-id-1 div.sk-parallel-item::before {content: \"\";position: absolute;border-left: 1px solid gray;box-sizing: border-box;top: 0;bottom: 0;left: 50%;z-index: -1;}#sk-container-id-1 div.sk-parallel-item {display: flex;flex-direction: column;z-index: 1;position: relative;background-color: white;}#sk-container-id-1 div.sk-parallel-item:first-child::after {align-self: flex-end;width: 50%;}#sk-container-id-1 div.sk-parallel-item:last-child::after {align-self: flex-start;width: 50%;}#sk-container-id-1 div.sk-parallel-item:only-child::after {width: 0;}#sk-container-id-1 div.sk-dashed-wrapped {border: 1px dashed gray;margin: 0 0.4em 0.5em 0.4em;box-sizing: border-box;padding-bottom: 0.4em;background-color: white;}#sk-container-id-1 div.sk-label label {font-family: monospace;font-weight: bold;display: inline-block;line-height: 1.2em;}#sk-container-id-1 div.sk-label-container {text-align: center;}#sk-container-id-1 div.sk-container {/* jupyter's `normalize.less` sets `[hidden] { display: none; }` but bootstrap.min.css set `[hidden] { display: none !important; }` so we also need the `!important` here to be able to override the default hidden behavior on the sphinx rendered scikit-learn.org. See: https://github.com/scikit-learn/scikit-learn/issues/21755 */display: inline-block !important;position: relative;}#sk-container-id-1 div.sk-text-repr-fallback {display: none;}</style><div id=\"sk-container-id-1\" class=\"sk-top-container\"><div class=\"sk-text-repr-fallback\"><pre>SVC(kernel=&#x27;sigmoid&#x27;)</pre><b>In a Jupyter environment, please rerun this cell to show the HTML representation or trust the notebook. <br />On GitHub, the HTML representation is unable to render, please try loading this page with nbviewer.org.</b></div><div class=\"sk-container\" hidden><div class=\"sk-item\"><div class=\"sk-estimator sk-toggleable\"><input class=\"sk-toggleable__control sk-hidden--visually\" id=\"sk-estimator-id-1\" type=\"checkbox\" checked><label for=\"sk-estimator-id-1\" class=\"sk-toggleable__label sk-toggleable__label-arrow\">SVC</label><div class=\"sk-toggleable__content\"><pre>SVC(kernel=&#x27;sigmoid&#x27;)</pre></div></div></div></div></div>"
      ],
      "text/plain": [
       "SVC(kernel='sigmoid')"
      ]
     },
     "execution_count": 20,
     "metadata": {},
     "output_type": "execute_result"
    }
   ],
   "source": [
    "model = svm.SVC(kernel = \"sigmoid\",C = 1.0)\n",
    "model.fit(x_train,y_train)"
   ]
  },
  {
   "cell_type": "code",
   "execution_count": 21,
   "metadata": {},
   "outputs": [],
   "source": [
    "y_pred = model.predict(x_test)"
   ]
  },
  {
   "cell_type": "code",
   "execution_count": 22,
   "metadata": {},
   "outputs": [
    {
     "name": "stdout",
     "output_type": "stream",
     "text": [
      "[[1379  192]\n",
      " [ 199    9]]\n"
     ]
    }
   ],
   "source": [
    "cm = confusion_matrix(y_test,y_pred)\n",
    "print(cm)"
   ]
  },
  {
   "cell_type": "code",
   "execution_count": 23,
   "metadata": {},
   "outputs": [
    {
     "name": "stdout",
     "output_type": "stream",
     "text": [
      "Trp Metric: 87.77848504137492\n"
     ]
    }
   ],
   "source": [
    "print('Trp Metric:',cm[0,0]/ (cm[0,0] + cm[0,1]) * 100)"
   ]
  },
  {
   "cell_type": "markdown",
   "metadata": {},
   "source": [
    "\n",
    "<h2>Second model: Deep neural network using Keras</h2>"
   ]
  },
  {
   "cell_type": "code",
   "execution_count": 20,
   "metadata": {},
   "outputs": [],
   "source": [
    "import tensorflow as tf\n",
    "from tensorflow import keras\n",
    "from keras.layers import *\n",
    "from keras import Sequential"
   ]
  },
  {
   "cell_type": "code",
   "execution_count": 23,
   "metadata": {},
   "outputs": [],
   "source": [
    "model = Sequential()\n",
    "model.add(Dense(30,input_shape=(7,)))\n",
    "model.add(Dense(50,activation='relu'))\n",
    "model.add(Dense(20,activation='relu'))\n",
    "model.add(Dense(1,activation='sigmoid'))\n",
    "model.compile(\n",
    "    loss='mse',\n",
    "    optimizer='adam',\n",
    "    metrics=['accuracy']\n",
    ")"
   ]
  },
  {
   "cell_type": "code",
   "execution_count": 24,
   "metadata": {},
   "outputs": [
    {
     "name": "stdout",
     "output_type": "stream",
     "text": [
      "Epoch 1/50\n",
      "189/189 [==============================] - 1s 3ms/step - loss: 0.1082 - accuracy: 0.8655 - val_loss: 0.0973 - val_accuracy: 0.8866\n",
      "Epoch 2/50\n",
      "189/189 [==============================] - 0s 2ms/step - loss: 0.0935 - accuracy: 0.8792 - val_loss: 0.0912 - val_accuracy: 0.8847\n",
      "Epoch 3/50\n",
      "189/189 [==============================] - 1s 3ms/step - loss: 0.0921 - accuracy: 0.8822 - val_loss: 0.0913 - val_accuracy: 0.8838\n",
      "Epoch 4/50\n",
      "189/189 [==============================] - 0s 2ms/step - loss: 0.0923 - accuracy: 0.8827 - val_loss: 0.0932 - val_accuracy: 0.8828\n",
      "Epoch 5/50\n",
      "189/189 [==============================] - 1s 3ms/step - loss: 0.0913 - accuracy: 0.8834 - val_loss: 0.0926 - val_accuracy: 0.8866\n",
      "Epoch 6/50\n",
      "189/189 [==============================] - 0s 2ms/step - loss: 0.0908 - accuracy: 0.8842 - val_loss: 0.0892 - val_accuracy: 0.8810\n",
      "Epoch 7/50\n",
      "189/189 [==============================] - 0s 2ms/step - loss: 0.0903 - accuracy: 0.8850 - val_loss: 0.0900 - val_accuracy: 0.8885\n",
      "Epoch 8/50\n",
      "189/189 [==============================] - 0s 2ms/step - loss: 0.0899 - accuracy: 0.8855 - val_loss: 0.0889 - val_accuracy: 0.8847\n",
      "Epoch 9/50\n",
      "189/189 [==============================] - 0s 2ms/step - loss: 0.0897 - accuracy: 0.8867 - val_loss: 0.0891 - val_accuracy: 0.8866\n",
      "Epoch 10/50\n",
      "189/189 [==============================] - 1s 3ms/step - loss: 0.0896 - accuracy: 0.8880 - val_loss: 0.0888 - val_accuracy: 0.8932\n",
      "Epoch 11/50\n",
      "189/189 [==============================] - 0s 2ms/step - loss: 0.0896 - accuracy: 0.8872 - val_loss: 0.0899 - val_accuracy: 0.8913\n",
      "Epoch 12/50\n",
      "189/189 [==============================] - 0s 2ms/step - loss: 0.0895 - accuracy: 0.8880 - val_loss: 0.0893 - val_accuracy: 0.8903\n",
      "Epoch 13/50\n",
      "189/189 [==============================] - 0s 2ms/step - loss: 0.0891 - accuracy: 0.8883 - val_loss: 0.0891 - val_accuracy: 0.8885\n",
      "Epoch 14/50\n",
      "189/189 [==============================] - 1s 3ms/step - loss: 0.0891 - accuracy: 0.8893 - val_loss: 0.0882 - val_accuracy: 0.8903\n",
      "Epoch 15/50\n",
      "189/189 [==============================] - 0s 2ms/step - loss: 0.0891 - accuracy: 0.8887 - val_loss: 0.0883 - val_accuracy: 0.8922\n",
      "Epoch 16/50\n",
      "189/189 [==============================] - 0s 2ms/step - loss: 0.0891 - accuracy: 0.8875 - val_loss: 0.0917 - val_accuracy: 0.8819\n",
      "Epoch 17/50\n",
      "189/189 [==============================] - 0s 3ms/step - loss: 0.0888 - accuracy: 0.8878 - val_loss: 0.0899 - val_accuracy: 0.8969\n",
      "Epoch 18/50\n",
      "189/189 [==============================] - 0s 2ms/step - loss: 0.0885 - accuracy: 0.8880 - val_loss: 0.0908 - val_accuracy: 0.8950\n",
      "Epoch 19/50\n",
      "189/189 [==============================] - 0s 2ms/step - loss: 0.0886 - accuracy: 0.8882 - val_loss: 0.0907 - val_accuracy: 0.8941\n",
      "Epoch 20/50\n",
      "189/189 [==============================] - 0s 2ms/step - loss: 0.0884 - accuracy: 0.8877 - val_loss: 0.0885 - val_accuracy: 0.8903\n",
      "Epoch 21/50\n",
      "189/189 [==============================] - 1s 3ms/step - loss: 0.0884 - accuracy: 0.8898 - val_loss: 0.0884 - val_accuracy: 0.8969\n",
      "Epoch 22/50\n",
      "189/189 [==============================] - 0s 2ms/step - loss: 0.0891 - accuracy: 0.8877 - val_loss: 0.0879 - val_accuracy: 0.8941\n",
      "Epoch 23/50\n",
      "189/189 [==============================] - 0s 2ms/step - loss: 0.0884 - accuracy: 0.8887 - val_loss: 0.0879 - val_accuracy: 0.8941\n",
      "Epoch 24/50\n",
      "189/189 [==============================] - 0s 2ms/step - loss: 0.0882 - accuracy: 0.8892 - val_loss: 0.0891 - val_accuracy: 0.8941\n",
      "Epoch 25/50\n",
      "189/189 [==============================] - 0s 2ms/step - loss: 0.0885 - accuracy: 0.8873 - val_loss: 0.0885 - val_accuracy: 0.8885\n",
      "Epoch 26/50\n",
      "189/189 [==============================] - 0s 3ms/step - loss: 0.0882 - accuracy: 0.8903 - val_loss: 0.0905 - val_accuracy: 0.8828\n",
      "Epoch 27/50\n",
      "189/189 [==============================] - 0s 2ms/step - loss: 0.0885 - accuracy: 0.8870 - val_loss: 0.0935 - val_accuracy: 0.8903\n",
      "Epoch 28/50\n",
      "189/189 [==============================] - 0s 2ms/step - loss: 0.0883 - accuracy: 0.8873 - val_loss: 0.0885 - val_accuracy: 0.8941\n",
      "Epoch 29/50\n",
      "189/189 [==============================] - 0s 2ms/step - loss: 0.0878 - accuracy: 0.8877 - val_loss: 0.0890 - val_accuracy: 0.8885\n",
      "Epoch 30/50\n",
      "189/189 [==============================] - 0s 2ms/step - loss: 0.0882 - accuracy: 0.8883 - val_loss: 0.0884 - val_accuracy: 0.8950\n",
      "Epoch 31/50\n",
      "189/189 [==============================] - 1s 3ms/step - loss: 0.0875 - accuracy: 0.8892 - val_loss: 0.0885 - val_accuracy: 0.8913\n",
      "Epoch 32/50\n",
      "189/189 [==============================] - 0s 2ms/step - loss: 0.0879 - accuracy: 0.8907 - val_loss: 0.0878 - val_accuracy: 0.8932\n",
      "Epoch 33/50\n",
      "189/189 [==============================] - 1s 3ms/step - loss: 0.0879 - accuracy: 0.8890 - val_loss: 0.0882 - val_accuracy: 0.8941\n",
      "Epoch 34/50\n",
      "189/189 [==============================] - 0s 2ms/step - loss: 0.0875 - accuracy: 0.8907 - val_loss: 0.0880 - val_accuracy: 0.8913\n",
      "Epoch 35/50\n",
      "189/189 [==============================] - 1s 3ms/step - loss: 0.0872 - accuracy: 0.8900 - val_loss: 0.0882 - val_accuracy: 0.8885\n",
      "Epoch 36/50\n",
      "189/189 [==============================] - 0s 2ms/step - loss: 0.0873 - accuracy: 0.8907 - val_loss: 0.0974 - val_accuracy: 0.8866\n",
      "Epoch 37/50\n",
      "189/189 [==============================] - 0s 2ms/step - loss: 0.0877 - accuracy: 0.8905 - val_loss: 0.0886 - val_accuracy: 0.8885\n",
      "Epoch 38/50\n",
      "189/189 [==============================] - 0s 3ms/step - loss: 0.0868 - accuracy: 0.8903 - val_loss: 0.0883 - val_accuracy: 0.8922\n",
      "Epoch 39/50\n",
      "189/189 [==============================] - 0s 2ms/step - loss: 0.0873 - accuracy: 0.8900 - val_loss: 0.0890 - val_accuracy: 0.8885\n",
      "Epoch 40/50\n",
      "189/189 [==============================] - 1s 3ms/step - loss: 0.0868 - accuracy: 0.8911 - val_loss: 0.0899 - val_accuracy: 0.8941\n",
      "Epoch 41/50\n",
      "189/189 [==============================] - 0s 2ms/step - loss: 0.0876 - accuracy: 0.8902 - val_loss: 0.0882 - val_accuracy: 0.8922\n",
      "Epoch 42/50\n",
      "189/189 [==============================] - 0s 2ms/step - loss: 0.0872 - accuracy: 0.8893 - val_loss: 0.0878 - val_accuracy: 0.8913\n",
      "Epoch 43/50\n",
      "189/189 [==============================] - 1s 3ms/step - loss: 0.0869 - accuracy: 0.8915 - val_loss: 0.0892 - val_accuracy: 0.8932\n",
      "Epoch 44/50\n",
      "189/189 [==============================] - 0s 2ms/step - loss: 0.0868 - accuracy: 0.8898 - val_loss: 0.0886 - val_accuracy: 0.8932\n",
      "Epoch 45/50\n",
      "189/189 [==============================] - 0s 2ms/step - loss: 0.0871 - accuracy: 0.8895 - val_loss: 0.0894 - val_accuracy: 0.8941\n",
      "Epoch 46/50\n",
      "189/189 [==============================] - 0s 2ms/step - loss: 0.0866 - accuracy: 0.8921 - val_loss: 0.0887 - val_accuracy: 0.8941\n",
      "Epoch 47/50\n",
      "189/189 [==============================] - 0s 2ms/step - loss: 0.0869 - accuracy: 0.8902 - val_loss: 0.0894 - val_accuracy: 0.8913\n",
      "Epoch 48/50\n",
      "189/189 [==============================] - 0s 2ms/step - loss: 0.0861 - accuracy: 0.8903 - val_loss: 0.0909 - val_accuracy: 0.8894\n",
      "Epoch 49/50\n",
      "189/189 [==============================] - 1s 3ms/step - loss: 0.0865 - accuracy: 0.8911 - val_loss: 0.0896 - val_accuracy: 0.8922\n",
      "Epoch 50/50\n",
      "189/189 [==============================] - 0s 2ms/step - loss: 0.0865 - accuracy: 0.8903 - val_loss: 0.0902 - val_accuracy: 0.8913\n"
     ]
    },
    {
     "data": {
      "text/plain": [
       "<keras.callbacks.History at 0x1962ea229b0>"
      ]
     },
     "execution_count": 24,
     "metadata": {},
     "output_type": "execute_result"
    }
   ],
   "source": [
    "model.fit(x_train,y_train,epochs=50,batch_size=32,validation_split=0.15)"
   ]
  },
  {
   "cell_type": "code",
   "execution_count": 25,
   "metadata": {},
   "outputs": [],
   "source": [
    "_,accuracy_score = model.evaluate(x_train,y_train,verbose=0)"
   ]
  },
  {
   "cell_type": "code",
   "execution_count": 26,
   "metadata": {},
   "outputs": [
    {
     "name": "stdout",
     "output_type": "stream",
     "text": [
      "56/56 [==============================] - 0s 1ms/step\n"
     ]
    }
   ],
   "source": [
    "y_pred = model.predict(x_test)"
   ]
  },
  {
   "cell_type": "code",
   "execution_count": 27,
   "metadata": {},
   "outputs": [
    {
     "data": {
      "text/plain": [
       "(1779, 1)"
      ]
     },
     "execution_count": 27,
     "metadata": {},
     "output_type": "execute_result"
    }
   ],
   "source": [
    "y_pred = y_pred.reshape(-1,1)\n",
    "y_pred.shape"
   ]
  },
  {
   "cell_type": "code",
   "execution_count": 28,
   "metadata": {},
   "outputs": [],
   "source": [
    "for i in range(y_pred.shape[0]):\n",
    "    if y_pred[i] >= 0.5 :\n",
    "        y_pred[i] = 1\n",
    "    elif y_pred[i] < 0.5:\n",
    "        y_pred[i] = 0"
   ]
  },
  {
   "cell_type": "code",
   "execution_count": 31,
   "metadata": {},
   "outputs": [
    {
     "name": "stdout",
     "output_type": "stream",
     "text": [
      "Trp Metric: 99.04519414385742\n"
     ]
    }
   ],
   "source": [
    "cm = confusion_matrix(y_test,y_pred)\n",
    "print('Trp Metric:',cm[0,0]/(cm[0,0] + cm[0,1]) * 100)"
   ]
  }
 ],
 "metadata": {
  "kernelspec": {
   "display_name": "Python 3.10.1 ('MLEnv')",
   "language": "python",
   "name": "python3"
  },
  "language_info": {
   "codemirror_mode": {
    "name": "ipython",
    "version": 3
   },
   "file_extension": ".py",
   "mimetype": "text/x-python",
   "name": "python",
   "nbconvert_exporter": "python",
   "pygments_lexer": "ipython3",
   "version": "3.10.1"
  },
  "orig_nbformat": 4,
  "vscode": {
   "interpreter": {
    "hash": "57ab81a696ca7f53b826f8a8ffc63a06965e37d4b1f695a8306ef72f7cc8b61f"
   }
  }
 },
 "nbformat": 4,
 "nbformat_minor": 2
}
